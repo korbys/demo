{
  "cells": [
    {
      "metadata": {
        "trusted": true
      },
      "cell_type": "code",
      "source": "#parallel\nx= input(\"write R1\")\n\ny= input(\"write R2\")\nv= input(\"write voltage\")\nx1= int(x)  \ny1= int(y)\nv1= int(v)\n\nprint ( v1/((x1*y1)/(x1+y1)) )",
      "execution_count": 20,
      "outputs": [
        {
          "output_type": "stream",
          "name": "stdout",
          "text": "write R11\nwrite R21\nwrite voltage10\n20.0\n"
        }
      ]
    },
    {
      "metadata": {
        "trusted": true
      },
      "cell_type": "code",
      "source": "#starait\nx= input(\"write R1\")\n\ny= input(\"write R2\")\nv= input(\"write voltage\")\nv1= int(v)\nx1= int(x)  \ny1= int(y)\n\nprint (v1/(x1+y1))",
      "execution_count": 24,
      "outputs": [
        {
          "output_type": "stream",
          "name": "stdout",
          "text": "write R12\nwrite R22\nwrite voltage4\n1.0\n"
        }
      ]
    },
    {
      "metadata": {
        "trusted": true
      },
      "cell_type": "code",
      "source": "",
      "execution_count": null,
      "outputs": []
    },
    {
      "metadata": {
        "trusted": true
      },
      "cell_type": "code",
      "source": "",
      "execution_count": null,
      "outputs": []
    }
  ],
  "metadata": {
    "kernelspec": {
      "name": "python36",
      "display_name": "Python 3.6",
      "language": "python"
    },
    "language_info": {
      "mimetype": "text/x-python",
      "nbconvert_exporter": "python",
      "name": "python",
      "pygments_lexer": "ipython3",
      "version": "3.6.6",
      "file_extension": ".py",
      "codemirror_mode": {
        "version": 3,
        "name": "ipython"
      }
    }
  },
  "nbformat": 4,
  "nbformat_minor": 2
}