{
  "cells": [
    {
      "metadata": {
        "trusted": true
      },
      "cell_type": "code",
      "source": "#exercise 1\nfor x in range(5,36,+2):\n    print(x)",
      "execution_count": 2,
      "outputs": [
        {
          "output_type": "stream",
          "text": "5\n7\n9\n11\n13\n15\n17\n19\n21\n23\n25\n27\n29\n31\n33\n35\n",
          "name": "stdout"
        }
      ]
    },
    {
      "metadata": {
        "trusted": true
      },
      "cell_type": "code",
      "source": "#exercise 2\nx=0\nwhile x<=5:\n    print( int(9/5*x+32) )\n    x=x+1",
      "execution_count": 1,
      "outputs": [
        {
          "output_type": "stream",
          "text": "32\n33\n35\n37\n39\n41\n",
          "name": "stdout"
        }
      ]
    },
    {
      "metadata": {
        "trusted": true
      },
      "cell_type": "code",
      "source": "x=0\nfor x in range(0,6,+1):\n    print( int(9/5*x+32) )\n    x=x+1",
      "execution_count": 13,
      "outputs": [
        {
          "output_type": "stream",
          "text": "32\n33\n35\n37\n39\n41\n",
          "name": "stdout"
        }
      ]
    },
    {
      "metadata": {
        "trusted": true
      },
      "cell_type": "code",
      "source": "#exercise 3\nx=input(\"write word \")\nfor item in x:\n    print(ord(item))\nfor item in x:\n    print(hex(ord(item)))\nfor item in x:\n    print(bin(ord(item)))\n",
      "execution_count": 33,
      "outputs": [
        {
          "output_type": "stream",
          "name": "stdout",
          "text": "write word abc\n97\n98\n99\n0x61\n0x62\n0x63\n0b1100001\n0b1100010\n0b1100011\n"
        }
      ]
    },
    {
      "metadata": {
        "trusted": true
      },
      "cell_type": "code",
      "source": "from ipywidgets import interact\n@interact\ndef led(x=10):\n        if (x % 2)==0: \n            print(\"on\")\n        if (x % 2)==1:\n            print(\"off\")",
      "execution_count": 3,
      "outputs": [
        {
          "output_type": "display_data",
          "data": {
            "application/vnd.jupyter.widget-view+json": {
              "model_id": "2fada81be0d64b75a98cc40a9f0918f0",
              "version_minor": 0,
              "version_major": 2
            },
            "text/plain": "interactive(children=(IntSlider(value=10, description='x', max=30, min=-10), Output()), _dom_classes=('widget-…"
          },
          "metadata": {}
        }
      ]
    },
    {
      "metadata": {
        "trusted": true
      },
      "cell_type": "code",
      "source": "from ipywidgets import interact\nv=5\n@interact(i=5,r=5)\ndef circuit(i,r):\n    print(\"p=\",v*i)\n    print('v=',i*r)\n@interact(i=\"5\",r=\"5\")\ndef circuit(i,r):\n    print(\"p=\",int(v)*int(i))\n    print('v=',int(i)*int(r))",
      "execution_count": 4,
      "outputs": [
        {
          "output_type": "display_data",
          "data": {
            "application/vnd.jupyter.widget-view+json": {
              "model_id": "f03003d7afe34626a87cc2aef7613cec",
              "version_minor": 0,
              "version_major": 2
            },
            "text/plain": "interactive(children=(IntSlider(value=5, description='i', max=15, min=-5), IntSlider(value=5, description='r',…"
          },
          "metadata": {}
        },
        {
          "output_type": "display_data",
          "data": {
            "application/vnd.jupyter.widget-view+json": {
              "model_id": "28cb64caad8a406599b0ac68c3b1fef6",
              "version_minor": 0,
              "version_major": 2
            },
            "text/plain": "interactive(children=(Text(value='5', description='i'), Text(value='5', description='r'), Output()), _dom_clas…"
          },
          "metadata": {}
        }
      ]
    },
    {
      "metadata": {
        "trusted": true
      },
      "cell_type": "code",
      "source": "from ipywidgets import interact\np=3.14\n@interact\ndef led(x=10):\n    if x<=0:\n        print(0)\n    if x>0:\n        print(\" in int volume=\",int(4/3*p*x*x*x))\n        print(\"  volume=\",(4/3*p*x*x*x))",
      "execution_count": 5,
      "outputs": [
        {
          "output_type": "display_data",
          "data": {
            "application/vnd.jupyter.widget-view+json": {
              "model_id": "47779a19d83642fd80ca77795bf17ec6",
              "version_minor": 0,
              "version_major": 2
            },
            "text/plain": "interactive(children=(IntSlider(value=10, description='x', max=30, min=-10), Output()), _dom_classes=('widget-…"
          },
          "metadata": {}
        }
      ]
    },
    {
      "metadata": {
        "trusted": true
      },
      "cell_type": "code",
      "source": "x= input(\"m kg\")\nintx= int(x)\nprint(\"m stone=\",intx*2.2/14)",
      "execution_count": 6,
      "outputs": [
        {
          "output_type": "stream",
          "name": "stdout",
          "text": "m kg3\nm stone= 0.4714285714285715\n"
        }
      ]
    },
    {
      "metadata": {
        "trusted": true
      },
      "cell_type": "code",
      "source": "x1=input(\"write cents\")\nq=0\nd=0\np=0\nx= int(x1)\nwhile x>=25:\n    x=x-25\n    q=q+1\nwhile x>=10:\n    x=x-10\n    d=d+1\nwhile x>=1:\n    x=x-1\n    p=p+1\nif x==0:\n    print('q=',q,'d=',d,'p=',p)\n    \n        \n        \n        ",
      "execution_count": 7,
      "outputs": [
        {
          "output_type": "stream",
          "name": "stdout",
          "text": "write cents97\nq= 3 d= 2 p= 2\n"
        }
      ]
    },
    {
      "metadata": {
        "trusted": true
      },
      "cell_type": "code",
      "source": "",
      "execution_count": null,
      "outputs": []
    },
    {
      "metadata": {
        "trusted": true
      },
      "cell_type": "code",
      "source": "",
      "execution_count": null,
      "outputs": []
    }
  ],
  "metadata": {
    "kernelspec": {
      "name": "python36",
      "display_name": "Python 3.6",
      "language": "python"
    },
    "language_info": {
      "mimetype": "text/x-python",
      "nbconvert_exporter": "python",
      "name": "python",
      "pygments_lexer": "ipython3",
      "version": "3.6.6",
      "file_extension": ".py",
      "codemirror_mode": {
        "version": 3,
        "name": "ipython"
      }
    }
  },
  "nbformat": 4,
  "nbformat_minor": 2
}